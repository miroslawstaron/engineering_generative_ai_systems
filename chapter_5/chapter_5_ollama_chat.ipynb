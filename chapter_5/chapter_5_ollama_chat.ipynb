{
 "cells": [
  {
   "cell_type": "markdown",
   "metadata": {},
   "source": [
    "# Using Ollama framework\n",
    "\n",
    "In this script, we demonstrate how a simple Python client can use large language model using JSON API, hosted by another computer with the Ollama framework. "
   ]
  },
  {
   "cell_type": "code",
   "execution_count": null,
   "metadata": {},
   "outputs": [],
   "source": [
    "# imports\n",
    "import requests\n",
    "import json"
   ]
  },
  {
   "cell_type": "code",
   "execution_count": null,
   "metadata": {},
   "outputs": [],
   "source": [
    "def generate(strPrompt):\n",
    "    url = 'http://OLLAMA SERVER ADDRESS/api/chat'\n",
    "    \n",
    "    data = {\n",
    "            \"model\": \"deepseek-r1:1.5b\",\n",
    "            \"messages\": [{\n",
    "                        \"role\": \"system\", \"content\": \"You are a programmer. You are having a conversation with a computer. \"\n",
    "                        },{\n",
    "                        \"role\": \"user\", \"content\": strPrompt\n",
    "                        }],\n",
    "            \"stream\": False\n",
    "            }\n",
    "    \n",
    "    \n",
    "    headers = {'Content-Type': 'application/json'}\n",
    "\n",
    "    response = requests.post(url, data=json.dumps(data), headers=headers)\n",
    "\n",
    "    json_data = json.loads(response.text)\n",
    "\n",
    "    strResponse = json_data['message']\n",
    "\n",
    "    return strResponse"
   ]
  },
  {
   "cell_type": "code",
   "execution_count": null,
   "metadata": {},
   "outputs": [],
   "source": [
    "print(generate(\"Hello, how are you?\"))"
   ]
  },
  {
   "cell_type": "markdown",
   "metadata": {},
   "source": [
    "# Now use LangChain"
   ]
  },
  {
   "cell_type": "code",
   "execution_count": null,
   "metadata": {},
   "outputs": [],
   "source": [
    "from langchain.llms import HuggingFaceHub\n",
    "\n",
    "llm = HuggingFaceHub(\n",
    "    repo_id=\"microsoft/Phi-3.5-mini-instruct\",\n",
    "    huggingfacehub_api_token=\"YOUR TOKEN HERE\",\n",
    "    model_kwargs={\"temperature\": 0.7, \"max_length\": 100}\n",
    ")\n",
    "response = llm.predict(\"What is LangChain?\")\n",
    "print(response)"
   ]
  }
 ],
 "metadata": {
  "kernelspec": {
   "display_name": "Python 3",
   "language": "python",
   "name": "python3"
  },
  "language_info": {
   "codemirror_mode": {
    "name": "ipython",
    "version": 3
   },
   "file_extension": ".py",
   "mimetype": "text/x-python",
   "name": "python",
   "nbconvert_exporter": "python",
   "pygments_lexer": "ipython3",
   "version": "3.12.3"
  }
 },
 "nbformat": 4,
 "nbformat_minor": 2
}
