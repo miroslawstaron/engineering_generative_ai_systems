{
 "cells": [
  {
   "cell_type": "markdown",
   "id": "47afb9b5",
   "metadata": {},
   "source": [
    "# Example use of Apache Spark"
   ]
  },
  {
   "cell_type": "code",
   "execution_count": 4,
   "id": "8b059555",
   "metadata": {},
   "outputs": [
    {
     "name": "stdout",
     "output_type": "stream",
     "text": [
      "+-------+--------+--------+-----+\n",
      "|feature|feature1|feature2|label|\n",
      "+-------+--------+--------+-----+\n",
      "|     15|     2.5|     4.7|    B|\n",
      "|     20|     3.1|     6.5|    D|\n",
      "|     12|     2.0|     4.0|    E|\n",
      "+-------+--------+--------+-----+\n",
      "\n"
     ]
    }
   ],
   "source": [
    "from pyspark.sql import SparkSession\n",
    "\n",
    "spark = SparkSession.builder.appName(\"Engineering Generative AI Spark\") .getOrCreate()\n",
    "\n",
    "df = spark.read.option(\"header\", \"true\").csv(\"data.csv\")\n",
    "\n",
    "df.createOrReplaceTempView(\"data_view\")\n",
    "\n",
    "result = spark.sql(\"SELECT * FROM data_view WHERE feature > 10\")\n",
    "result.show()"
   ]
  }
 ],
 "metadata": {
  "kernelspec": {
   "display_name": "Python 3",
   "language": "python",
   "name": "python3"
  },
  "language_info": {
   "codemirror_mode": {
    "name": "ipython",
    "version": 3
   },
   "file_extension": ".py",
   "mimetype": "text/x-python",
   "name": "python",
   "nbconvert_exporter": "python",
   "pygments_lexer": "ipython3",
   "version": "3.13.0"
  }
 },
 "nbformat": 4,
 "nbformat_minor": 5
}
