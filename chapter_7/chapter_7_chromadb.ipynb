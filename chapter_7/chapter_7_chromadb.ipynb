{
 "cells": [
  {
   "cell_type": "markdown",
   "id": "28f8fd41",
   "metadata": {},
   "source": [
    "# Example of how to use ChromaDB embeddings database\n",
    "\n",
    "This tutorial shows how to create a vector embedding database using ChromaDB. "
   ]
  },
  {
   "cell_type": "code",
   "execution_count": 1,
   "id": "bcb615a0",
   "metadata": {},
   "outputs": [],
   "source": [
    "import chromadb"
   ]
  },
  {
   "cell_type": "code",
   "execution_count": 2,
   "id": "d4c43d8d",
   "metadata": {},
   "outputs": [],
   "source": [
    "# the first document, text to store in the database\n",
    "strSantaClaus = '''You better watch out, you better not cry\n",
    "You better not pout, I'm telling you why\n",
    "Santa Claus is coming to town\n",
    "He's making a list and checking it twice\n",
    "He's gonna find out who's naughty and nice\n",
    "Santa Claus is coming to town\n",
    "He sees you when you're sleeping\n",
    "He knows when you're awake\n",
    "He knows if you've been bad or good\n",
    "So be good for goodness' sake\n",
    "Oh, you better watch out, you better not cry\n",
    "You better not pout, I'm telling you why\n",
    "Santa Claus is coming to town '''\n",
    "\n",
    "# the second document, text to store in the database\n",
    "strFrostyTheSnowman = '''Who's debonair with the tall silk hat?\n",
    "Muffler of wool and a tummy that's fat?\n",
    "King for a day, and he loves the road\n",
    "With a broomstick cane, and a heart of gold\n",
    "That's Frosty the Snowman\n",
    "He's a jolly, happy soul\n",
    "With a corncob pipe, and a button nose\n",
    "And two eyes made out of coal\n",
    "Frosty the Snowman is a fairytale they say\n",
    "He was made of snow\n",
    "But the children know\n",
    "How he came to life one day\n",
    "There must have been some magic\n",
    "In that old silk hat they found\n",
    "For when they placed it on his head\n",
    "He began to dance around\n",
    "Oh, Frosty the Snowman\n",
    "Was alive as he could be\n",
    "And the children say\n",
    "He could laugh and play just the same as you and me\n",
    "Frosty the Snowman\n",
    "Knew the sun was hot that day\n",
    "So, he said let's run\n",
    "And we'll have some fun now before I melt away\n",
    "So down to the village\n",
    "With a broomstick in his hand\n",
    "Running here and there all around the square\n",
    "Saying, \"Catch me if you can\"\n",
    "He led them down the streets of town\n",
    "Right to the traffic cop\n",
    "And he only paused a moment when\n",
    "He heard him holler, \"Stop!\"\n",
    "For Frosty the Snowman had to hurry on his way\n",
    "But he waved goodbye\n",
    "Saying don't you cry\n",
    "I'll be back again some day, (they listening)\n",
    "Thumpety, thump-thump, thumpety, thump-thump\n",
    "Look at Frosty go (hey, look at him)\n",
    "Thumpety, thump-thump, thumpety, thump-thump\n",
    "Over the hills of snow '''"
   ]
  },
  {
   "cell_type": "code",
   "execution_count": 3,
   "id": "b6ce4e04",
   "metadata": {},
   "outputs": [
    {
     "name": "stderr",
     "output_type": "stream",
     "text": [
      "No sentence-transformers model found with name mstaron/SingBERTa. Creating a new one with mean pooling.\n",
      "Some weights of RobertaModel were not initialized from the model checkpoint at mstaron/SingBERTa and are newly initialized: ['pooler.dense.bias', 'pooler.dense.weight']\n",
      "You should probably TRAIN this model on a down-stream task to be able to use it for predictions and inference.\n"
     ]
    }
   ],
   "source": [
    "import chromadb.utils.embedding_functions as embedding_functions\n",
    "\n",
    "# Use a local model, e.g., \"all-MiniLM-L6-v2\" (downloaded by sentence-transformers)\n",
    "local_ef = embedding_functions.SentenceTransformerEmbeddingFunction(\n",
    "    model_name=\"mstaron/SingBERTa\"  # or path to your local model directory\n",
    ")"
   ]
  },
  {
   "cell_type": "code",
   "execution_count": 4,
   "id": "03d776ea",
   "metadata": {},
   "outputs": [],
   "source": [
    "# chromadb in memory mode (emphemeral)\n",
    "client = chromadb.EphemeralClient()\n",
    "\n",
    "#client = chromadb.PersistentClient(path=\"./chroma_db\")\n",
    "\n",
    "# creating a new database, called collection\n",
    "collection = client.create_collection(\"generative-ai\", embedding_function=local_ef)\n",
    "\n",
    "collection.add(\n",
    "    documents=[strSantaClaus,strFrostyTheSnowman], # we handle tokenization, embedding, and indexing automatically. You can skip that and add your own embeddings as well\n",
    "    metadatas=[{\"source\": \"Bing Cosby\"}, {\"source\": \"Ella Fitzgerald\"}], # filter on these!\n",
    "    ids=[\"Santa\", \"Frosty\"], # unique for each doc\n",
    ")"
   ]
  },
  {
   "cell_type": "code",
   "execution_count": 5,
   "id": "d048a2a5",
   "metadata": {},
   "outputs": [],
   "source": [
    "# Query/search 2 most similar results. You can also .get by id\n",
    "results = collection.query(\n",
    "    query_texts=[\"Where is Santa Claus?\"], # the text to search for\n",
    "    n_results=1,\n",
    "    # where={\"metadata_field\": \"is_equal_to_this\"}, # optional filter\n",
    "    where_document={\"$contains\":\"Santa\"}  \n",
    ")"
   ]
  },
  {
   "cell_type": "code",
   "execution_count": 6,
   "id": "41462c34",
   "metadata": {},
   "outputs": [
    {
     "name": "stdout",
     "output_type": "stream",
     "text": [
      "Query results:\n",
      "ID: ['Santa']\n",
      "Metadata: [{'source': 'Bing Cosby'}]\n",
      "Score: [368.8697814941406]\n",
      "['You better watch out, you better not cry\\n'\n",
      " \"You better not pout, I'm telling you why\\n\"\n",
      " 'Santa Claus is coming to town\\n'\n",
      " \"He's making a list and checking it twice\\n\"\n",
      " \"He's gonna find out who's naughty and nice\\n\"\n",
      " 'Santa Claus is coming to town\\n'\n",
      " \"He sees you when you're sleeping\\n\"\n",
      " \"He knows when you're awake\\n\"\n",
      " \"He knows if you've been bad or good\\n\"\n",
      " \"So be good for goodness' sake\\n\"\n",
      " 'Oh, you better watch out, you better not cry\\n'\n",
      " \"You better not pout, I'm telling you why\\n\"\n",
      " 'Santa Claus is coming to town ']\n"
     ]
    }
   ],
   "source": [
    "import pprint\n",
    "\n",
    "print(\"Query results:\")\n",
    "\n",
    "print(f\"ID: {results['ids'][0]}\")\n",
    "print(f\"Metadata: {results['metadatas'][0]}\")\n",
    "print(f\"Score: {results['distances'][0]}\")\n",
    "pprint.pprint(results[\"documents\"][0])"
   ]
  },
  {
   "cell_type": "code",
   "execution_count": null,
   "id": "c131b0fe",
   "metadata": {},
   "outputs": [],
   "source": [
    "# set up persistent client\n",
    "\n"
   ]
  }
 ],
 "metadata": {
  "kernelspec": {
   "display_name": "Python 3",
   "language": "python",
   "name": "python3"
  },
  "language_info": {
   "codemirror_mode": {
    "name": "ipython",
    "version": 3
   },
   "file_extension": ".py",
   "mimetype": "text/x-python",
   "name": "python",
   "nbconvert_exporter": "python",
   "pygments_lexer": "ipython3",
   "version": "3.13.0"
  }
 },
 "nbformat": 4,
 "nbformat_minor": 5
}
