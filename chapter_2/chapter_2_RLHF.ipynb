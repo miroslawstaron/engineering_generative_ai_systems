{
 "cells": [
  {
   "cell_type": "markdown",
   "id": "2f44a8f9",
   "metadata": {},
   "source": [
    "# RLHF example\n",
    "\n",
    "In this example, we will load a JSONL file containing preference records and preprocess it for training a model using Hugging Face's `datasets` library.\n",
    "\n",
    "The example shows that the dataset is a bit different from the standard one. It contains both prompts and two responses - one that is preferred and one that is not. We will preprocess this data to prepare it for training.\n"
   ]
  },
  {
   "cell_type": "code",
   "execution_count": 10,
   "id": "4ad4f140",
   "metadata": {},
   "outputs": [
    {
     "name": "stdout",
     "output_type": "stream",
     "text": [
      "dict_keys(['prompt', 'winner', 'loser'])\n",
      "dict_keys(['prompt', 'winner', 'loser'])\n",
      "dict_keys(['prompt', 'winner', 'loser'])\n",
      "dict_keys(['prompt', 'winner', 'loser'])\n",
      "dict_keys(['prompt', 'winner', 'loser'])\n"
     ]
    }
   ],
   "source": [
    "for example in raw_data:\n",
    "    print(example.keys())  # Debug: see available keys\n",
    "\n",
    "# Use the correct key, e.g., \"prompt\" if that's what your data uses\n",
    "train_dataset = [\n",
    "    tokenizer(example.get(\"text\", \"\"), return_tensors=\"pt\", padding=\"max_length\", truncation=True, max_length=128)\n",
    "    for example in raw_data if \"text\" in example\n",
    "]"
   ]
  },
  {
   "cell_type": "code",
   "execution_count": 12,
   "id": "168ee69a",
   "metadata": {},
   "outputs": [
    {
     "name": "stdout",
     "output_type": "stream",
     "text": [
      "dict_keys(['prompt', 'winner', 'loser'])\n"
     ]
    },
    {
     "name": "stderr",
     "output_type": "stream",
     "text": [
      "Map: 100%|██████████| 5/5 [00:00<00:00, 274.64 examples/s]\n",
      "Map: 100%|██████████| 5/5 [00:00<00:00, 274.64 examples/s]\n"
     ]
    }
   ],
   "source": [
    "from datasets import load_dataset\n",
    "\n",
    "def tokenize_function(example):\n",
    "    return tokenizer(example[\"prompt\"], padding=\"max_length\", truncation=True, max_length=128)\n",
    "\n",
    "# Load your JSONL file as a Hugging Face Dataset\n",
    "dataset = load_dataset(\"json\", data_files=\"preference_records.jsonl\", split=\"train\")\n",
    "\n",
    "# Print available keys for debugging\n",
    "print(dataset[0].keys())\n",
    "\n",
    "if tokenizer.pad_token is None:\n",
    "    tokenizer.pad_token = tokenizer.eos_token\n",
    "\n",
    "# If your key is not \"text\", replace it with the correct one\n",
    "tokenized_dataset = dataset.map(tokenize_function, batched=True)\n",
    "\n",
    "# Pass tokenized_dataset to PPOTrainer as train_dataset"
   ]
  },
  {
   "cell_type": "code",
   "execution_count": null,
   "id": "2aaaa6dd",
   "metadata": {},
   "outputs": [
    {
     "name": "stdout",
     "output_type": "stream",
     "text": [
      "===training policy===\n"
     ]
    }
   ],
   "source": [
    "from trl import PPOTrainer, PPOConfig\n",
    "from transformers import AutoModelForCausalLM, AutoModelForSequenceClassification, AutoTokenizer\n",
    "from datasets import load_dataset\n",
    "import copy\n",
    "from tqdm import trange\n",
    "\n",
    "config = PPOConfig(batch_size=16, learning_rate=1e-5)\n",
    "model   = AutoModelForCausalLM.from_pretrained(\"distilgpt2\", device_map=\"cuda\")\n",
    "tokenizer = AutoTokenizer.from_pretrained(\"distilgpt2\")\n",
    "\n",
    "if tokenizer.pad_token is None:\n",
    "    tokenizer.pad_token = tokenizer.eos_token\n",
    "\n",
    "reward  = AutoModelForSequenceClassification.from_pretrained(\"OpenAssistant/reward-model-deberta-v3-large\")\n",
    "\n",
    "# Define the reference model and value model (if applicable)\n",
    "ref_model = copy.deepcopy(model)  # Create a copy of the model for reference\n",
    "value_model = model  # Assuming the same model is used for value estimation\n",
    "\n",
    "# Load and preprocess the training dataset\n",
    "train_dataset_path = \"preference_records.jsonl\"\n",
    "\n",
    "def tokenize_function(example):\n",
    "    return tokenizer(example[\"prompt\"], \n",
    "                     padding=\"max_length\", \n",
    "                     truncation=True, \n",
    "                     max_length=128)\n",
    "\n",
    "dataset = load_dataset(\"json\", \n",
    "                       data_files=train_dataset_path, \n",
    "                       split=\"train\")\n",
    "\n",
    "tokenized_dataset = dataset.map(tokenize_function, batched=True)\n",
    "\n",
    "# Define additional required arguments\n",
    "processing_class = None  # Replace with actual processing class if needed\n",
    "\n",
    "# Initialize PPOTrainer with required arguments\n",
    "ppo = PPOTrainer(model=model, \n",
    "                 ref_model=ref_model, \n",
    "                 reward_model=reward, \n",
    "                 train_dataset=tokenized_dataset, \n",
    "                 value_model=value_model, \n",
    "                 args=config, \n",
    "                 processing_class=processing_class)\n",
    "\n",
    "ppo.stop_token_id = 50256\n",
    "ppo.train()"
   ]
  },
  {
   "cell_type": "code",
   "execution_count": 18,
   "id": "30726bb9",
   "metadata": {},
   "outputs": [
    {
     "name": "stdout",
     "output_type": "stream",
     "text": [
      "Model device: cuda:0\n",
      "Reward model device: cuda:0\n",
      "CUDA available: True\n"
     ]
    }
   ],
   "source": [
    "import torch\n",
    "\n",
    "# Print device info for model and reward model\n",
    "print(f\"Model device: {next(model.parameters()).device}\")\n",
    "print(f\"Reward model device: {next(reward.parameters()).device}\")\n",
    "print(f\"CUDA available: {torch.cuda.is_available()}\")"
   ]
  }
 ],
 "metadata": {
  "kernelspec": {
   "display_name": "Python 3",
   "language": "python",
   "name": "python3"
  },
  "language_info": {
   "codemirror_mode": {
    "name": "ipython",
    "version": 3
   },
   "file_extension": ".py",
   "mimetype": "text/x-python",
   "name": "python",
   "nbconvert_exporter": "python",
   "pygments_lexer": "ipython3",
   "version": "3.10.12"
  }
 },
 "nbformat": 4,
 "nbformat_minor": 5
}
