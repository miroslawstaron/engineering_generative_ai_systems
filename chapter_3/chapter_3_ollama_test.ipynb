{
 "cells": [
  {
   "cell_type": "markdown",
   "metadata": {},
   "source": [
    "# Testing of generative AI"
   ]
  },
  {
   "cell_type": "code",
   "execution_count": 6,
   "metadata": {},
   "outputs": [],
   "source": [
    "# imports\n",
    "import requests\n",
    "import json"
   ]
  },
  {
   "cell_type": "code",
   "execution_count": 4,
   "metadata": {},
   "outputs": [],
   "source": [
    "def generateCode(strPrompt):\n",
    "    url = 'http://deeperthought.cse.chalmers.se:5050/api/generate'\n",
    "    \n",
    "    data = {\n",
    "        \"model\": \"llama3.2\",\n",
    "        \"prompt\": strPrompt,\n",
    "        \"stream\": False\n",
    "    }\n",
    "    \n",
    "    headers = {'Content-Type': 'application/json'}\n",
    "\n",
    "    response = requests.post(url, data=json.dumps(data), headers=headers)\n",
    "\n",
    "    json_data = json.loads(response.text)\n",
    "\n",
    "    strProgram = json_data['response']\n",
    "\n",
    "    return strProgram"
   ]
  },
  {
   "cell_type": "code",
   "execution_count": null,
   "metadata": {},
   "outputs": [
    {
     "name": "stderr",
     "output_type": "stream",
     "text": [
      "Map:   0%|          | 0/50 [00:00<?, ? examples/s]"
     ]
    }
   ],
   "source": [
    "from datasets import load_dataset\n",
    "\n",
    "# Load the glue dataset\n",
    "dataset = load_dataset('glue', 'mrpc')\n",
    "\n",
    "# Apply your function to the dataset\n",
    "def apply_function_to_dataset(dataset, function):\n",
    "    return dataset.map(lambda examples: {'result': function(examples['sentence1'])})\n",
    "\n",
    "# Apply the function to the train split\n",
    "result_dataset = apply_function_to_dataset(dataset['train'].select(range(50)), generateCode)"
   ]
  },
  {
   "cell_type": "code",
   "execution_count": 19,
   "metadata": {},
   "outputs": [
    {
     "name": "stdout",
     "output_type": "stream",
     "text": [
      "{'sentence1': ['Amrozi accused his brother , whom he called \" the witness \" , of deliberately distorting his evidence .', \"Yucaipa owned Dominick 's before selling the chain to Safeway in 1998 for $ 2.5 billion .\", 'They had published an advertisement on the Internet on June 10 , offering the cargo for sale , he added .', 'Around 0335 GMT , Tab shares were up 19 cents , or 4.4 % , at A $ 4.56 , having earlier set a record high of A $ 4.57 .', 'The stock rose $ 2.11 , or about 11 percent , to close Friday at $ 21.51 on the New York Stock Exchange .'], 'sentence2': ['Referring to him as only \" the witness \" , Amrozi accused his brother of deliberately distorting his evidence .', \"Yucaipa bought Dominick 's in 1995 for $ 693 million and sold it to Safeway for $ 1.8 billion in 1998 .\", \"On June 10 , the ship 's owners had published an advertisement on the Internet , offering the explosives for sale .\", 'Tab shares jumped 20 cents , or 4.6 % , to set a record closing high at A $ 4.57 .', 'PG & E Corp. shares jumped $ 1.63 or 8 percent to $ 21.03 on the New York Stock Exchange on Friday .'], 'label': [1, 0, 1, 0, 1], 'idx': [0, 1, 2, 3, 4], 'result': ['This sentence appears to be from a trial or court proceeding, as it mentions a person being accused and a term like \"witness\". \\n\\nIn this context, Amrozi accusing his brother of distorting evidence suggests that there may have been some kind of dispute or disagreement about the interpretation or presentation of evidence in a case involving Amrozi. The use of the term \"the witness\" implies that the brother\\'s testimony played an important role in the trial, and Amrozi is now claiming that it was not accurate.\\n\\nHowever, without more information about the context of this accusation, it is difficult to say for certain what happened or why Amrozi made this claim. It could be related to a specific case or trial where the brothers were involved as witnesses or parties.', \"I think there may be some inaccuracies here.\\n\\nAfter double-checking, I found that Dominick's was actually acquired by Safeway (then known as Safeway Inc.) in 1983, not Yucaipa (which is likely a typo or a misunderstanding). The acquisition was indeed a significant one, valued at around $800 million at the time.\\n\\nYucaipa Companies, Ltd. is a private investment firm founded by Ronald Burkle, and it has made numerous investments over the years. However, I couldn't find any information on Yucaipa owning Dominick's prior to its sale to Safeway in 1983.\\n\\nLet me know if you have any further questions or if there's anything else I can help with!\", 'It seems like you\\'re describing a situation where someone is trying to sell cargo online, but there might be some confusion about when they actually posted the ad.\\n\\nIf I correctly interpret your sentence, it appears that the advertisement was published on the Internet \"on June 10\", meaning that\\'s when the seller originally offered the cargo for sale. However, in modern language and online advertising practices, ads are usually considered available from the moment they\\'re posted or made live, rather than just being \"published\" at a specific point.\\n\\nCould you provide more context about what specifically is confusing or unclear? Are there any other details that might help clarify when exactly the seller offered the cargo for sale?', 'The Tab share price has increased by 19 cents, which is equivalent to a 4.4% rise. The current price is A$4.56, up from an earlier record high of A$4.57.', \"That's a significant gain! A 11% increase is substantial, and it's great to see the stock reaching $21.51 by the end of the week.\\n\\nTo put this into perspective, if the original price was $20 (a rough estimate), the 11% increase would be equivalent to an additional $2.21. This means the stock has gained over 10 cents per share, which is a notable movement in the market.\\n\\nIt's also interesting to note that this gain is significant enough to push the stock above the $21 mark, indicating a strong trend for the company or industry at large.\\n\\nDo you have any specific questions about this stock or the market in general?\"]}\n"
     ]
    }
   ],
   "source": [
    "# Evaluate the results (example: print the first few results)\n",
    "print(result_dataset[:5])"
   ]
  },
  {
   "cell_type": "code",
   "execution_count": 18,
   "metadata": {},
   "outputs": [
    {
     "name": "stdout",
     "output_type": "stream",
     "text": [
      "BLEU score: 1.74\n"
     ]
    }
   ],
   "source": [
    "import sacrebleu\n",
    "\n",
    "# Extract references and predictions\n",
    "references = [example['sentence2'] for example in dataset['train']]\n",
    "predictions = [example['result'] for example in result_dataset]\n",
    "\n",
    "# Calculate BLEU score\n",
    "bleu = sacrebleu.corpus_bleu(predictions, [references])\n",
    "print(f\"BLEU score: {bleu.score:.2f}\")"
   ]
  }
 ],
 "metadata": {
  "kernelspec": {
   "display_name": "Python 3",
   "language": "python",
   "name": "python3"
  },
  "language_info": {
   "codemirror_mode": {
    "name": "ipython",
    "version": 3
   },
   "file_extension": ".py",
   "mimetype": "text/x-python",
   "name": "python",
   "nbconvert_exporter": "python",
   "pygments_lexer": "ipython3",
   "version": "3.12.3"
  }
 },
 "nbformat": 4,
 "nbformat_minor": 2
}
